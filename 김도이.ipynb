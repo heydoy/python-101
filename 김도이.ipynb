{
  "nbformat": 4,
  "nbformat_minor": 0,
  "metadata": {
    "colab": {
      "name": "김도이.ipynb",
      "version": "0.3.2",
      "provenance": [],
      "collapsed_sections": [],
      "include_colab_link": true
    },
    "kernelspec": {
      "name": "python3",
      "display_name": "Python 3"
    }
  },
  "cells": [
    {
      "cell_type": "markdown",
      "metadata": {
        "id": "view-in-github",
        "colab_type": "text"
      },
      "source": [
        "<a href=\"https://colab.research.google.com/github/heydoy/python-101/blob/master/%EA%B9%80%EB%8F%84%EC%9D%B4.ipynb\" target=\"_parent\"><img src=\"https://colab.research.google.com/assets/colab-badge.svg\" alt=\"Open In Colab\"/></a>"
      ]
    },
    {
      "cell_type": "markdown",
      "metadata": {
        "id": "PTQWF5V6Pm5f",
        "colab_type": "text"
      },
      "source": [
        "##리스트"
      ]
    },
    {
      "cell_type": "markdown",
      "metadata": {
        "id": "MXtE9OttPwDV",
        "colab_type": "text"
      },
      "source": [
        "###리스트란?\n",
        "여러 값을 담을 수 있는 변수입니다."
      ]
    },
    {
      "cell_type": "markdown",
      "metadata": {
        "id": "3iMLukSEP8bo",
        "colab_type": "text"
      },
      "source": [
        "###리스트 만들기\n",
        "##### 1) listName = [] \n",
        "//변수를 선언해서 빈 리스트를 생성하는 것\n",
        "\n",
        "\n"
      ]
    },
    {
      "cell_type": "code",
      "metadata": {
        "id": "8eEjWAlvQvNp",
        "colab_type": "code",
        "outputId": "77a3f3a3-fa0d-4496-d881-32ef81adfd0c",
        "colab": {
          "base_uri": "https://localhost:8080/",
          "height": 34
        }
      },
      "source": [
        "listName = []\n",
        "print(listName)"
      ],
      "execution_count": 0,
      "outputs": [
        {
          "output_type": "stream",
          "text": [
            "[]\n"
          ],
          "name": "stdout"
        }
      ]
    },
    {
      "cell_type": "code",
      "metadata": {
        "id": "H14zoiuSRE57",
        "colab_type": "code",
        "outputId": "6ebc2043-6c34-4ef3-dcff-77ccfa0b4871",
        "colab": {
          "base_uri": "https://localhost:8080/",
          "height": 34
        }
      },
      "source": [
        "listName2 = ['철수',2,True]\n",
        "print(listName2)"
      ],
      "execution_count": 0,
      "outputs": [
        {
          "output_type": "stream",
          "text": [
            "['철수', 2, True]\n"
          ],
          "name": "stdout"
        }
      ]
    },
    {
      "cell_type": "markdown",
      "metadata": {
        "id": "H5pLXGSRROM_",
        "colab_type": "text"
      },
      "source": [
        "####2)listName = list()\n",
        "//list()는 리스트를 만드는 함수. 함수를 이용해 만든다."
      ]
    },
    {
      "cell_type": "code",
      "metadata": {
        "id": "zqLyg1D9SKmk",
        "colab_type": "code",
        "outputId": "62dc84a1-f9ba-44af-e49d-90697eea4bce",
        "colab": {
          "base_uri": "https://localhost:8080/",
          "height": 34
        }
      },
      "source": [
        "listName3 = list()\n",
        "print(listName3)"
      ],
      "execution_count": 0,
      "outputs": [
        {
          "output_type": "stream",
          "text": [
            "[]\n"
          ],
          "name": "stdout"
        }
      ]
    },
    {
      "cell_type": "code",
      "metadata": {
        "id": "Cb1zAVjgSt_O",
        "colab_type": "code",
        "outputId": "a2438fe1-9b43-403a-f332-19cfa234551a",
        "colab": {
          "base_uri": "https://localhost:8080/",
          "height": 34
        }
      },
      "source": [
        "listName4 = list(['철수','True'])\n",
        "print(listName4)"
      ],
      "execution_count": 0,
      "outputs": [
        {
          "output_type": "stream",
          "text": [
            "['철수', 'True']\n"
          ],
          "name": "stdout"
        }
      ]
    }
  ]
}